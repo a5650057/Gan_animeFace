{
 "cells": [
  {
   "cell_type": "code",
   "execution_count": 21,
   "metadata": {},
   "outputs": [
    {
     "ename": "SyntaxError",
     "evalue": "invalid syntax (2003216658.py, line 19)",
     "output_type": "error",
     "traceback": [
      "\u001b[1;36m  Cell \u001b[1;32mIn[21], line 19\u001b[1;36m\u001b[0m\n\u001b[1;33m    sudo curl -s https://packagecloud.io/install/repositories/github/git-lfs/script.deb.sh | bash\u001b[0m\n\u001b[1;37m         ^\u001b[0m\n\u001b[1;31mSyntaxError\u001b[0m\u001b[1;31m:\u001b[0m invalid syntax\n"
     ]
    }
   ],
   "source": [
    "import requests\n",
    "import zipfile\n",
    "from tqdm import tqdm\n",
    "from io import BytesIO\n",
    "\n",
    "# 定义下载函数\n",
    "def download_file(url, filename):\n",
    "    response = requests.get(url, stream=True)\n",
    "    with open(filename, \"wb\") as handle:\n",
    "        for data in tqdm(response.iter_content()):\n",
    "            handle.write(data)\n",
    "\n",
    "# 下载并解压数据集\n",
    "def download_and_unzip(url, extract_to='.'):\n",
    "    print(\"Downloading...\")\n",
    "    zip_path = os.path.join(extract_to, 'dataset.zip')\n",
    "    download_file(url, zip_path)\n",
    "    print(\"Unzipping...\")\n",
    "    with zipfile.ZipFile(zip_path, 'r') as zip_ref:\n",
    "        zip_ref.extractall(extract_to)\n",
    "    os.remove(zip_path)  # 删除 zip 文件以节省空间\n",
    "\n",
    "# 使用下载函数\n",
    "dataset_url = \"https://huggingface.co/datasets/LeoFeng/MLHW_6/resolve/main/faces.zip\"  # 更新为正确的 ZIP URL\n",
    "download_and_unzip(dataset_url, './MLHW_6')\n",
    "\n"
   ]
  },
  {
   "cell_type": "code",
   "execution_count": null,
   "metadata": {},
   "outputs": [],
   "source": [
    "import os\n",
    "import glob\n",
    "import random\n",
    "from datetime import datetime\n",
    "import torch\n",
    "import torch.nn as nn\n",
    "import torchvision.transforms as transforms\n",
    "from torch.utils.data import Dataset, DataLoader\n",
    "import matplotlib.pyplot as plt\n",
    "import numpy as np\n",
    "\n",
    "# 设置随机种子以确保结果可重复\n",
    "def same_seeds(seed):\n",
    "    random.seed(seed)\n",
    "    np.random.seed(seed)\n",
    "    torch.manual_seed(seed)\n",
    "    if torch.cuda.is_available():\n",
    "        torch.cuda.manual_seed(seed)\n",
    "        torch.cuda.manual_seed_all(seed)\n",
    "    torch.backends.cudnn.benchmark = False\n",
    "    torch.backends.cudnn.deterministic = True\n",
    "\n",
    "same_seeds(2022)\n",
    "workspace_dir = '.'\n"
   ]
  },
  {
   "cell_type": "code",
   "execution_count": null,
   "metadata": {},
   "outputs": [],
   "source": [
    "from src.data import get_dataset\n",
    "\n",
    "# 加载数据集\n",
    "dataset = get_dataset('./MLHW_6/faces')\n",
    "dataloader = DataLoader(dataset, batch_size=64, shuffle=True)\n",
    "\n",
    "# 展示部分数据\n",
    "images = next(iter(dataloader))\n",
    "plt.figure(figsize=(8, 8))\n",
    "plt.axis(\"off\")\n",
    "plt.title(\"Training Images\")\n",
    "plt.imshow(np.transpose(torchvision.utils.make_grid(images[:64], padding=2, normalize=True).cpu(),(1,2,0)))\n"
   ]
  },
  {
   "cell_type": "code",
   "execution_count": null,
   "metadata": {},
   "outputs": [],
   "source": [
    "from src.model import Generator, Discriminator\n",
    "\n",
    "# 初始化模型\n",
    "generator = Generator(in_dim=100)\n",
    "discriminator = Discriminator(in_dim=3)\n",
    "\n"
   ]
  },
  {
   "cell_type": "code",
   "execution_count": null,
   "metadata": {},
   "outputs": [],
   "source": [
    "from src.train import train\n",
    "\n",
    "config = {\n",
    "    \"batch_size\": 64,\n",
    "    \"lr\": 0.0002,\n",
    "    \"n_epoch\": 50,\n",
    "    \"z_dim\": 100,\n",
    "    \"model_type\": \"GAN\",\n",
    "    \"workspace_dir\": \".\"\n",
    "}\n",
    "\n",
    "train(config)\n"
   ]
  }
 ],
 "metadata": {
  "kernelspec": {
   "display_name": "myvenv",
   "language": "python",
   "name": "python3"
  },
  "language_info": {
   "codemirror_mode": {
    "name": "ipython",
    "version": 3
   },
   "file_extension": ".py",
   "mimetype": "text/x-python",
   "name": "python",
   "nbconvert_exporter": "python",
   "pygments_lexer": "ipython3",
   "version": "3.9.0"
  }
 },
 "nbformat": 4,
 "nbformat_minor": 2
}
